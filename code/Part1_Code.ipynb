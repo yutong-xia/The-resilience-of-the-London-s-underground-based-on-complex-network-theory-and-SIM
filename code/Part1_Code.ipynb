{
 "cells": [
  {
   "cell_type": "markdown",
   "id": "private-fancy",
   "metadata": {},
   "source": [
    "\n",
    "# London's underground resilience\n",
    "\n",
    "## Preprocessing"
   ]
  },
  {
   "cell_type": "code",
   "execution_count": 1,
   "id": "driving-disorder",
   "metadata": {},
   "outputs": [],
   "source": [
    "import networkx as nx\n",
    "import matplotlib.pyplot as plt\n",
    "import numpy as np\n",
    "import os\n",
    "import pandas as pd\n",
    "from networkx import algorithms \n",
    "from networkx.algorithms import efficiency\n",
    "from networkx.algorithms import components\n",
    "from networkx.algorithms.efficiency_measures import global_efficiency\n",
    "from networkx.algorithms.components import connected_components"
   ]
  },
  {
   "cell_type": "code",
   "execution_count": 2,
   "id": "distinct-strain",
   "metadata": {},
   "outputs": [],
   "source": [
    "#read the shape file for London's underground\n",
    "os.chdir('.\\\\Underground')\n",
    "g_shp=nx.read_shp('underground.shp',geom_attrs=False) "
   ]
  },
  {
   "cell_type": "code",
   "execution_count": 3,
   "id": "popular-sailing",
   "metadata": {},
   "outputs": [
    {
     "data": {
      "text/plain": [
       "((-0.1571, 51.5226),\n",
       " (-0.1631, 51.5225),\n",
       " {'toid_seq': '1',\n",
       "  'station_1': 11,\n",
       "  'station_1_': 'Baker Street',\n",
       "  'station_2': 163,\n",
       "  'station_2_': 'Marylebone',\n",
       "  'distance': 416.586050414,\n",
       "  'ShpName': 'underground'})"
      ]
     },
     "execution_count": 3,
     "metadata": {},
     "output_type": "execute_result"
    }
   ],
   "source": [
    "#give to the nodes the names of the stations:\n",
    "nod_st1={(e1):weight for e1, e2, weight in g_shp.edges(data='station_1_')}\n",
    "nod_st2={(e2):weight for e1, e2, weight in g_shp.edges(data='station_2_')}\n",
    "nod_all = {**nod_st1, **nod_st2}\n",
    "nx.set_node_attributes(g_shp,nod_all,'station')\n",
    "\n",
    "#transform the type of graph from directed to undirected \n",
    "g_shp_un = g_shp.to_undirected()\n",
    "\n",
    "list((g_shp_un.edges(data=True)))[0]"
   ]
  },
  {
   "cell_type": "markdown",
   "id": "pleased-vehicle",
   "metadata": {},
   "source": [
    "## Nodes importance evaluation based on Centrality\n",
    "\n",
    "In this part, we will evaluate nodes importance by calculating their centrality. We will use three centreality measures to calculate and check the most 10 important stations following two stratigies: sequential and non-sequential.\n",
    "\n",
    "Therefore, there will be 6 different scenarios for nodes importance.\n",
    "\n",
    "   * Scenario 1: Importance based on non-sequentially Betweenness Centrality value\n",
    "   * Scenario 2: Importance based on non-sequentially Closeness Centrality value\n",
    "   * Scenario 3: Importance based on non-sequentially Degree Centrality value\n",
    "   * Scenario 4: Importance based on sequentially Betweenness Centrality value\n",
    "   * Scenario 5: Importance based on sequentially Closeness Centrality value\n",
    "   * Scenario 6: Importance based on sequentially Degree Centrality value\n",
    "\n",
    "### Betweenness Centrality\n",
    "\n"
   ]
  },
  {
   "cell_type": "code",
   "execution_count": 4,
   "id": "future-joshua",
   "metadata": {},
   "outputs": [],
   "source": [
    "# calculate the values\n",
    "bet_london_w=nx.betweenness_centrality(g_shp_un\n",
    "                                       #, weight='distance'\n",
    "                                       , normalized=False)\n",
    "# add these values to the nodes attributes:\n",
    "nx.set_node_attributes(g_shp_un,bet_london_w,'betweenness_w')"
   ]
  },
  {
   "cell_type": "code",
   "execution_count": 5,
   "id": "convertible-indianapolis",
   "metadata": {},
   "outputs": [
    {
     "data": {
      "text/html": [
       "<div>\n",
       "<style scoped>\n",
       "    .dataframe tbody tr th:only-of-type {\n",
       "        vertical-align: middle;\n",
       "    }\n",
       "\n",
       "    .dataframe tbody tr th {\n",
       "        vertical-align: top;\n",
       "    }\n",
       "\n",
       "    .dataframe thead th {\n",
       "        text-align: right;\n",
       "    }\n",
       "</style>\n",
       "<table border=\"1\" class=\"dataframe\">\n",
       "  <thead>\n",
       "    <tr style=\"text-align: right;\">\n",
       "      <th></th>\n",
       "      <th>betweenness_w</th>\n",
       "    </tr>\n",
       "  </thead>\n",
       "  <tbody>\n",
       "    <tr>\n",
       "      <th>(-0.1428, 51.5067)</th>\n",
       "      <td>16399.698810</td>\n",
       "    </tr>\n",
       "    <tr>\n",
       "      <th>(-0.1143, 51.5036)</th>\n",
       "      <td>15644.492857</td>\n",
       "    </tr>\n",
       "    <tr>\n",
       "      <th>(-0.0886, 51.5133)</th>\n",
       "      <td>15008.035714</td>\n",
       "    </tr>\n",
       "    <tr>\n",
       "      <th>(-0.1571, 51.5226)</th>\n",
       "      <td>14441.576984</td>\n",
       "    </tr>\n",
       "    <tr>\n",
       "      <th>(-0.1254, 51.501)</th>\n",
       "      <td>14139.401190</td>\n",
       "    </tr>\n",
       "    <tr>\n",
       "      <th>...</th>\n",
       "      <td>...</td>\n",
       "    </tr>\n",
       "    <tr>\n",
       "      <th>(-0.275, 51.6137)</th>\n",
       "      <td>0.000000</td>\n",
       "    </tr>\n",
       "    <tr>\n",
       "      <th>(-0.4376, 51.5696)</th>\n",
       "      <td>0.000000</td>\n",
       "    </tr>\n",
       "    <tr>\n",
       "      <th>(0.251, 51.559)</th>\n",
       "      <td>0.000000</td>\n",
       "    </tr>\n",
       "    <tr>\n",
       "      <th>(-0.3351, 51.5925)</th>\n",
       "      <td>0.000000</td>\n",
       "    </tr>\n",
       "    <tr>\n",
       "      <th>(-0.0743, 51.5106)</th>\n",
       "      <td>0.000000</td>\n",
       "    </tr>\n",
       "  </tbody>\n",
       "</table>\n",
       "<p>306 rows × 1 columns</p>\n",
       "</div>"
      ],
      "text/plain": [
       "                    betweenness_w\n",
       "(-0.1428, 51.5067)   16399.698810\n",
       "(-0.1143, 51.5036)   15644.492857\n",
       "(-0.0886, 51.5133)   15008.035714\n",
       "(-0.1571, 51.5226)   14441.576984\n",
       "(-0.1254, 51.501)    14139.401190\n",
       "...                           ...\n",
       "(-0.275, 51.6137)        0.000000\n",
       "(-0.4376, 51.5696)       0.000000\n",
       "(0.251, 51.559)          0.000000\n",
       "(-0.3351, 51.5925)       0.000000\n",
       "(-0.0743, 51.5106)       0.000000\n",
       "\n",
       "[306 rows x 1 columns]"
      ]
     },
     "execution_count": 5,
     "metadata": {},
     "output_type": "execute_result"
    }
   ],
   "source": [
    "# Scenario 1\n",
    "betweenness_df=pd.DataFrame.from_dict(bet_london_w,columns=['betweenness_w'],orient='index')\n",
    "max_1=list(betweenness_df.sort_values('betweenness_w',axis = 0,ascending = False).index)[0:10]\n",
    "\n",
    "betweenness_df.sort_values('betweenness_w',axis = 0,ascending = False)"
   ]
  },
  {
   "cell_type": "code",
   "execution_count": 6,
   "id": "committed-finance",
   "metadata": {},
   "outputs": [],
   "source": [
    "# Scenario 4\n",
    "\n",
    "max_4=[]\n",
    "g_4=g_shp_un.copy()\n",
    "\n",
    "for i in range(0,10):\n",
    "    # recalculate the centrality values and remove the most largest one\n",
    "    bet_london_w=nx.betweenness_centrality(g_4\n",
    "                                           #, weight='distance'\n",
    "                                           , normalized=False)\n",
    "    nx.set_node_attributes(g_4,bet_london_w,'betweenness_w')\n",
    "    betweenness_df=pd.DataFrame.from_dict(bet_london_w,columns=['betweenness_w'],orient='index')\n",
    "    node4=list(betweenness_df.sort_values('betweenness_w',axis = 0,ascending = False).index)\n",
    "    max_4.append(node4[0])\n",
    "    g_4.remove_nodes_from([node4[0]])"
   ]
  },
  {
   "cell_type": "markdown",
   "id": "measured-pride",
   "metadata": {},
   "source": [
    "### Closeness Centrality"
   ]
  },
  {
   "cell_type": "code",
   "execution_count": 7,
   "id": "hawaiian-wiring",
   "metadata": {},
   "outputs": [],
   "source": [
    "closeness_w=nx.closeness_centrality(g_shp_un\n",
    "                                    #,distance='distance'\n",
    "                                   )\n",
    "nx.set_node_attributes(g_shp_un,closeness_w,'closeness_w')"
   ]
  },
  {
   "cell_type": "code",
   "execution_count": 8,
   "id": "chinese-ready",
   "metadata": {},
   "outputs": [
    {
     "data": {
      "text/html": [
       "<div>\n",
       "<style scoped>\n",
       "    .dataframe tbody tr th:only-of-type {\n",
       "        vertical-align: middle;\n",
       "    }\n",
       "\n",
       "    .dataframe tbody tr th {\n",
       "        vertical-align: top;\n",
       "    }\n",
       "\n",
       "    .dataframe thead th {\n",
       "        text-align: right;\n",
       "    }\n",
       "</style>\n",
       "<table border=\"1\" class=\"dataframe\">\n",
       "  <thead>\n",
       "    <tr style=\"text-align: right;\">\n",
       "      <th></th>\n",
       "      <th>closeness_w</th>\n",
       "    </tr>\n",
       "  </thead>\n",
       "  <tbody>\n",
       "    <tr>\n",
       "      <th>(-0.1428, 51.5067)</th>\n",
       "      <td>0.115487</td>\n",
       "    </tr>\n",
       "    <tr>\n",
       "      <th>(-0.1254, 51.501)</th>\n",
       "      <td>0.112463</td>\n",
       "    </tr>\n",
       "    <tr>\n",
       "      <th>(-0.1494, 51.5142)</th>\n",
       "      <td>0.111886</td>\n",
       "    </tr>\n",
       "    <tr>\n",
       "      <th>(-0.1415, 51.515)</th>\n",
       "      <td>0.110748</td>\n",
       "    </tr>\n",
       "    <tr>\n",
       "      <th>(-0.1143, 51.5036)</th>\n",
       "      <td>0.110708</td>\n",
       "    </tr>\n",
       "    <tr>\n",
       "      <th>...</th>\n",
       "      <td>...</td>\n",
       "    </tr>\n",
       "    <tr>\n",
       "      <th>(0.2343, 51.5582)</th>\n",
       "      <td>0.044513</td>\n",
       "    </tr>\n",
       "    <tr>\n",
       "      <th>(-0.4524, 51.4713)</th>\n",
       "      <td>0.044370</td>\n",
       "    </tr>\n",
       "    <tr>\n",
       "      <th>(-0.4476, 51.4598)</th>\n",
       "      <td>0.044370</td>\n",
       "    </tr>\n",
       "    <tr>\n",
       "      <th>(-0.3351, 51.5925)</th>\n",
       "      <td>0.044152</td>\n",
       "    </tr>\n",
       "    <tr>\n",
       "      <th>(0.251, 51.559)</th>\n",
       "      <td>0.042622</td>\n",
       "    </tr>\n",
       "  </tbody>\n",
       "</table>\n",
       "<p>306 rows × 1 columns</p>\n",
       "</div>"
      ],
      "text/plain": [
       "                    closeness_w\n",
       "(-0.1428, 51.5067)     0.115487\n",
       "(-0.1254, 51.501)      0.112463\n",
       "(-0.1494, 51.5142)     0.111886\n",
       "(-0.1415, 51.515)      0.110748\n",
       "(-0.1143, 51.5036)     0.110708\n",
       "...                         ...\n",
       "(0.2343, 51.5582)      0.044513\n",
       "(-0.4524, 51.4713)     0.044370\n",
       "(-0.4476, 51.4598)     0.044370\n",
       "(-0.3351, 51.5925)     0.044152\n",
       "(0.251, 51.559)        0.042622\n",
       "\n",
       "[306 rows x 1 columns]"
      ]
     },
     "execution_count": 8,
     "metadata": {},
     "output_type": "execute_result"
    }
   ],
   "source": [
    "# Scenario 2\n",
    "closeness_df=pd.DataFrame.from_dict(closeness_w,columns=['closeness_w'],orient='index')\n",
    "max_2=list(closeness_df.sort_values('closeness_w',axis = 0,ascending = False).index)[0:10]\n",
    "\n",
    "closeness_df.sort_values('closeness_w',axis = 0,ascending = False)"
   ]
  },
  {
   "cell_type": "code",
   "execution_count": 9,
   "id": "suitable-restoration",
   "metadata": {},
   "outputs": [],
   "source": [
    "# Scenario 5\n",
    "max_5=[]\n",
    "g_5=g_shp_un.copy()\n",
    "for i in range(0,10):\n",
    "    closeness_w=nx.closeness_centrality(g_5\n",
    "                                        #,distance='distance'\n",
    "                                       )\n",
    "    nx.set_node_attributes(g_5,closeness_w,'closeness_w')\n",
    "    closeness_df=pd.DataFrame.from_dict(closeness_w,columns=['closeness_w'],orient='index')\n",
    "    node5=list(closeness_df.sort_values('closeness_w',axis = 0,ascending = False).index)\n",
    "    max_5.append(node5[0])\n",
    "    g_5.remove_nodes_from([node5[0]])"
   ]
  },
  {
   "cell_type": "markdown",
   "id": "champion-magnet",
   "metadata": {},
   "source": [
    "### Degree Centrality"
   ]
  },
  {
   "cell_type": "code",
   "execution_count": 10,
   "id": "atlantic-balance",
   "metadata": {},
   "outputs": [],
   "source": [
    "degree=nx.degree(g_shp_un)\n",
    "nx.set_node_attributes(g_shp_un,dict(degree),'degree')"
   ]
  },
  {
   "cell_type": "code",
   "execution_count": 11,
   "id": "soviet-timer",
   "metadata": {},
   "outputs": [
    {
     "data": {
      "text/html": [
       "<div>\n",
       "<style scoped>\n",
       "    .dataframe tbody tr th:only-of-type {\n",
       "        vertical-align: middle;\n",
       "    }\n",
       "\n",
       "    .dataframe tbody tr th {\n",
       "        vertical-align: top;\n",
       "    }\n",
       "\n",
       "    .dataframe thead th {\n",
       "        text-align: right;\n",
       "    }\n",
       "</style>\n",
       "<table border=\"1\" class=\"dataframe\">\n",
       "  <thead>\n",
       "    <tr style=\"text-align: right;\">\n",
       "      <th></th>\n",
       "      <th>degree</th>\n",
       "    </tr>\n",
       "  </thead>\n",
       "  <tbody>\n",
       "    <tr>\n",
       "      <th>(-0.1571, 51.5226)</th>\n",
       "      <td>7</td>\n",
       "    </tr>\n",
       "    <tr>\n",
       "      <th>(-0.1238, 51.5308)</th>\n",
       "      <td>7</td>\n",
       "    </tr>\n",
       "    <tr>\n",
       "      <th>(-0.1143, 51.5036)</th>\n",
       "      <td>6</td>\n",
       "    </tr>\n",
       "    <tr>\n",
       "      <th>(-0.1973, 51.492)</th>\n",
       "      <td>6</td>\n",
       "    </tr>\n",
       "    <tr>\n",
       "      <th>(-0.0886, 51.5133)</th>\n",
       "      <td>6</td>\n",
       "    </tr>\n",
       "    <tr>\n",
       "      <th>...</th>\n",
       "      <td>...</td>\n",
       "    </tr>\n",
       "    <tr>\n",
       "      <th>(-0.2064, 51.4214)</th>\n",
       "      <td>1</td>\n",
       "    </tr>\n",
       "    <tr>\n",
       "      <th>(-0.0327, 51.4767)</th>\n",
       "      <td>1</td>\n",
       "    </tr>\n",
       "    <tr>\n",
       "      <th>(-0.0402, 51.4757)</th>\n",
       "      <td>1</td>\n",
       "    </tr>\n",
       "    <tr>\n",
       "      <th>(0.0613, 51.5148)</th>\n",
       "      <td>1</td>\n",
       "    </tr>\n",
       "    <tr>\n",
       "      <th>(-0.0743, 51.5106)</th>\n",
       "      <td>1</td>\n",
       "    </tr>\n",
       "  </tbody>\n",
       "</table>\n",
       "<p>306 rows × 1 columns</p>\n",
       "</div>"
      ],
      "text/plain": [
       "                    degree\n",
       "(-0.1571, 51.5226)       7\n",
       "(-0.1238, 51.5308)       7\n",
       "(-0.1143, 51.5036)       6\n",
       "(-0.1973, 51.492)        6\n",
       "(-0.0886, 51.5133)       6\n",
       "...                    ...\n",
       "(-0.2064, 51.4214)       1\n",
       "(-0.0327, 51.4767)       1\n",
       "(-0.0402, 51.4757)       1\n",
       "(0.0613, 51.5148)        1\n",
       "(-0.0743, 51.5106)       1\n",
       "\n",
       "[306 rows x 1 columns]"
      ]
     },
     "execution_count": 11,
     "metadata": {},
     "output_type": "execute_result"
    }
   ],
   "source": [
    "# Scenario 3\n",
    "degree_df=pd.DataFrame.from_dict(dict(degree),columns=['degree'],orient='index')\n",
    "node3=list(degree_df.sort_values('degree',axis = 0,ascending = False).index)\n",
    "max_3=node3[0:10]\n",
    "\n",
    "degree_df.sort_values('degree',axis = 0,ascending = False)"
   ]
  },
  {
   "cell_type": "code",
   "execution_count": 12,
   "id": "three-minute",
   "metadata": {},
   "outputs": [],
   "source": [
    "# Scenario 6\n",
    "max_6=[]\n",
    "g_6=g_shp_un.copy()\n",
    "for i in range(0,10):\n",
    "    degree=nx.degree(g_6)\n",
    "    nx.set_node_attributes(g_6,dict(degree),'degree')\n",
    "    degree_df=pd.DataFrame.from_dict(dict(degree),columns=['degree'],orient='index')\n",
    "    node6=list(degree_df.sort_values('degree',axis = 0,ascending = False).index)\n",
    "    max_6.append(node6[0])\n",
    "    g_6.remove_nodes_from([node6[0]])"
   ]
  },
  {
   "cell_type": "markdown",
   "id": "junior-caribbean",
   "metadata": {},
   "source": [
    "### Visualize the important nodes"
   ]
  },
  {
   "cell_type": "markdown",
   "id": "formed-solid",
   "metadata": {},
   "source": [
    "Now, we got the top 10 important stations in 6 scenarios."
   ]
  },
  {
   "cell_type": "code",
   "execution_count": 13,
   "id": "checked-turtle",
   "metadata": {},
   "outputs": [],
   "source": [
    "#create a df to store the results of top ten important stations of London underground system\n",
    "importance=pd.DataFrame(index=range(0,10),columns=['Betweenness(non-seq)','Closeness(non-seq)','Degree(non-seq)','Betweenness(seq)','Closeness(seq)','Degree(seq)'])"
   ]
  },
  {
   "cell_type": "code",
   "execution_count": 14,
   "id": "unexpected-individual",
   "metadata": {},
   "outputs": [],
   "source": [
    "columns=['Betweenness(non-seq)','Closeness(non-seq)','Degree(non-seq)','Betweenness(seq)','Closeness(seq)','Degree(seq)']\n",
    "max_all=[max_1,max_2,max_3,max_4,max_5,max_6]\n",
    "for i in range(0,6):\n",
    "    for j in range(0,10):\n",
    "        importance[columns[i]][j]=g_shp_un.nodes[max_all[i][j]]['station']\n",
    "importance.insert(0,'Rank',range(1,11))    "
   ]
  },
  {
   "cell_type": "code",
   "execution_count": 15,
   "id": "noted-shift",
   "metadata": {},
   "outputs": [
    {
     "data": {
      "text/html": [
       "<div>\n",
       "<style scoped>\n",
       "    .dataframe tbody tr th:only-of-type {\n",
       "        vertical-align: middle;\n",
       "    }\n",
       "\n",
       "    .dataframe tbody tr th {\n",
       "        vertical-align: top;\n",
       "    }\n",
       "\n",
       "    .dataframe thead th {\n",
       "        text-align: right;\n",
       "    }\n",
       "</style>\n",
       "<table border=\"1\" class=\"dataframe\">\n",
       "  <thead>\n",
       "    <tr style=\"text-align: right;\">\n",
       "      <th></th>\n",
       "      <th>Rank</th>\n",
       "      <th>Betweenness(non-seq)</th>\n",
       "      <th>Closeness(non-seq)</th>\n",
       "      <th>Degree(non-seq)</th>\n",
       "      <th>Betweenness(seq)</th>\n",
       "      <th>Closeness(seq)</th>\n",
       "      <th>Degree(seq)</th>\n",
       "    </tr>\n",
       "  </thead>\n",
       "  <tbody>\n",
       "    <tr>\n",
       "      <th>0</th>\n",
       "      <td>1</td>\n",
       "      <td>Green Park</td>\n",
       "      <td>Green Park</td>\n",
       "      <td>Baker Street</td>\n",
       "      <td>Green Park</td>\n",
       "      <td>Green Park</td>\n",
       "      <td>Baker Street</td>\n",
       "    </tr>\n",
       "    <tr>\n",
       "      <th>1</th>\n",
       "      <td>2</td>\n",
       "      <td>Waterloo</td>\n",
       "      <td>Westminster</td>\n",
       "      <td>King's Cross St. Pancras</td>\n",
       "      <td>Baker Street</td>\n",
       "      <td>Waterloo</td>\n",
       "      <td>King's Cross St. Pancras</td>\n",
       "    </tr>\n",
       "    <tr>\n",
       "      <th>2</th>\n",
       "      <td>3</td>\n",
       "      <td>Bank</td>\n",
       "      <td>Bond Street</td>\n",
       "      <td>Waterloo</td>\n",
       "      <td>Earl's Court</td>\n",
       "      <td>King's Cross St. Pancras</td>\n",
       "      <td>Waterloo</td>\n",
       "    </tr>\n",
       "    <tr>\n",
       "      <th>3</th>\n",
       "      <td>4</td>\n",
       "      <td>Baker Street</td>\n",
       "      <td>Oxford Circus</td>\n",
       "      <td>Earl's Court</td>\n",
       "      <td>Notting Hill Gate</td>\n",
       "      <td>Oxford Circus</td>\n",
       "      <td>Oxford Circus</td>\n",
       "    </tr>\n",
       "    <tr>\n",
       "      <th>4</th>\n",
       "      <td>5</td>\n",
       "      <td>Westminster</td>\n",
       "      <td>Waterloo</td>\n",
       "      <td>Bank</td>\n",
       "      <td>Bank</td>\n",
       "      <td>Victoria</td>\n",
       "      <td>Earl's Court</td>\n",
       "    </tr>\n",
       "    <tr>\n",
       "      <th>5</th>\n",
       "      <td>6</td>\n",
       "      <td>Bond Street</td>\n",
       "      <td>Bank</td>\n",
       "      <td>Green Park</td>\n",
       "      <td>King's Cross St. Pancras</td>\n",
       "      <td>Bank</td>\n",
       "      <td>Green Park</td>\n",
       "    </tr>\n",
       "    <tr>\n",
       "      <th>6</th>\n",
       "      <td>7</td>\n",
       "      <td>Liverpool Street</td>\n",
       "      <td>Baker Street</td>\n",
       "      <td>Oxford Circus</td>\n",
       "      <td>Canary Wharf</td>\n",
       "      <td>Paddington</td>\n",
       "      <td>Bank</td>\n",
       "    </tr>\n",
       "    <tr>\n",
       "      <th>7</th>\n",
       "      <td>8</td>\n",
       "      <td>Stratford</td>\n",
       "      <td>Victoria</td>\n",
       "      <td>Paddington</td>\n",
       "      <td>Embankment</td>\n",
       "      <td>Whitechapel</td>\n",
       "      <td>Canning Town</td>\n",
       "    </tr>\n",
       "    <tr>\n",
       "      <th>8</th>\n",
       "      <td>9</td>\n",
       "      <td>Mile End</td>\n",
       "      <td>Hyde Park Corner</td>\n",
       "      <td>Turnham Green</td>\n",
       "      <td>Stratford</td>\n",
       "      <td>Stratford</td>\n",
       "      <td>Turnham Green</td>\n",
       "    </tr>\n",
       "    <tr>\n",
       "      <th>9</th>\n",
       "      <td>10</td>\n",
       "      <td>Bethnal Green</td>\n",
       "      <td>Embankment</td>\n",
       "      <td>Shadwell</td>\n",
       "      <td>Ealing Common</td>\n",
       "      <td>Notting Hill Gate</td>\n",
       "      <td>Paddington</td>\n",
       "    </tr>\n",
       "  </tbody>\n",
       "</table>\n",
       "</div>"
      ],
      "text/plain": [
       "   Rank Betweenness(non-seq) Closeness(non-seq)           Degree(non-seq)  \\\n",
       "0     1           Green Park         Green Park              Baker Street   \n",
       "1     2             Waterloo        Westminster  King's Cross St. Pancras   \n",
       "2     3                 Bank        Bond Street                  Waterloo   \n",
       "3     4         Baker Street      Oxford Circus              Earl's Court   \n",
       "4     5          Westminster           Waterloo                      Bank   \n",
       "5     6          Bond Street               Bank                Green Park   \n",
       "6     7     Liverpool Street       Baker Street             Oxford Circus   \n",
       "7     8            Stratford           Victoria                Paddington   \n",
       "8     9             Mile End   Hyde Park Corner             Turnham Green   \n",
       "9    10        Bethnal Green         Embankment                  Shadwell   \n",
       "\n",
       "           Betweenness(seq)            Closeness(seq)  \\\n",
       "0                Green Park                Green Park   \n",
       "1              Baker Street                  Waterloo   \n",
       "2              Earl's Court  King's Cross St. Pancras   \n",
       "3         Notting Hill Gate             Oxford Circus   \n",
       "4                      Bank                  Victoria   \n",
       "5  King's Cross St. Pancras                      Bank   \n",
       "6              Canary Wharf                Paddington   \n",
       "7                Embankment               Whitechapel   \n",
       "8                 Stratford                 Stratford   \n",
       "9             Ealing Common         Notting Hill Gate   \n",
       "\n",
       "                Degree(seq)  \n",
       "0              Baker Street  \n",
       "1  King's Cross St. Pancras  \n",
       "2                  Waterloo  \n",
       "3             Oxford Circus  \n",
       "4              Earl's Court  \n",
       "5                Green Park  \n",
       "6                      Bank  \n",
       "7              Canning Town  \n",
       "8             Turnham Green  \n",
       "9                Paddington  "
      ]
     },
     "execution_count": 15,
     "metadata": {},
     "output_type": "execute_result"
    }
   ],
   "source": [
    "importance"
   ]
  },
  {
   "cell_type": "code",
   "execution_count": 16,
   "id": "democratic-welcome",
   "metadata": {},
   "outputs": [],
   "source": [
    "# write the result in local\n",
    "importance.to_csv('Top ten important station of London underground.csv',index=False)"
   ]
  },
  {
   "cell_type": "markdown",
   "id": "beneficial-young",
   "metadata": {},
   "source": [
    "We can also visualise them in the plot."
   ]
  },
  {
   "cell_type": "code",
   "execution_count": null,
   "id": "scientific-double",
   "metadata": {},
   "outputs": [],
   "source": []
  },
  {
   "cell_type": "markdown",
   "id": "preceding-savannah",
   "metadata": {},
   "source": [
    "## Remove the nodes and calculate the efficiency of the networks"
   ]
  },
  {
   "cell_type": "markdown",
   "id": "innovative-maintenance",
   "metadata": {},
   "source": [
    "In this part, we will remove all the nodes in 6 different ways:\n",
    "* Non-sequential:\n",
    "    * Scenario 1: Remove nodes with the most largest Betweenness Centrality value, where the remove sequence is the original order\n",
    "    * Scenario 2: Remove nodes with the most largest Closeness Centrality value, where the remove sequence is the original order\n",
    "    * Scenario 3: Remove nodes with the most largest Degree Centrality value, where the remove sequence is the original order\n",
    "* Sequential:\n",
    "    * Scenario 4: Remove nodes with the most largest Betweenness Centrality value, and the value will be recomputed after every removal\n",
    "    * Scenario 5: Remove nodes with the most largest Closeness Centrality value, and the value will be recomputed after every removal\n",
    "    * Scenario 6: Remove nodes with the most largest Degree Centrality value, and the value will be recomputed after every removal\n",
    "\n",
    "After every removal, I will use two measures to evaluate the perfomance of the network after nodes removal, and store the values into lists. Therefore, there will be 12 lists in total, and I name them ``score_a_1``(the global networks efficiency in scenario 1), ``score_b_1``(the local networks efficiency in scenario 1), ``score_a_2``, ``score_b_2``...\n",
    "\n",
    "The methods used here is global efficiency of the network and relative size of the maximal connected sub-graph. The first measurement can be done via the function `global_efficiency()` in `networks` package. And the second one can be calculated by the function `rsmcs()` which is defined as follows."
   ]
  },
  {
   "cell_type": "code",
   "execution_count": 17,
   "id": "metallic-paintball",
   "metadata": {},
   "outputs": [],
   "source": [
    "def rsmcs(g):\n",
    "    '''\n",
    "    This function is the second method to evaluate the impact on the network after nodes removal.\n",
    "    It gets the value of relative size of the maximal connected sub-graph.\n",
    "    '''\n",
    "    return len(max(nx.connected_components(g), key=len))/306"
   ]
  },
  {
   "cell_type": "markdown",
   "id": "hidden-uruguay",
   "metadata": {},
   "source": [
    "### Non-sequential"
   ]
  },
  {
   "cell_type": "markdown",
   "id": "destroyed-component",
   "metadata": {},
   "source": [
    "#### Scenario 1"
   ]
  },
  {
   "cell_type": "code",
   "execution_count": 18,
   "id": "powered-trance",
   "metadata": {},
   "outputs": [],
   "source": [
    "# create a list that contain the node's coordinations by order\n",
    "bet_london_w=nx.betweenness_centrality(g_shp_un\n",
    "                                       #, weight='distance'\n",
    "                                       , normalized=False)\n",
    "betweenness_df=pd.DataFrame.from_dict(bet_london_w,columns=['betweenness_w'],orient='index')\n",
    "node1=list(betweenness_df.sort_values('betweenness_w',axis = 0,ascending = False).index)\n",
    "\n",
    "#create a list to store the score after every time removal\n",
    "score_a_1=[]\n",
    "score_b_1=[]\n",
    "g_1=g_shp_un.copy()\n",
    "\n",
    "#remove the node one by one, after every removel, calculate the score\n",
    "for i in range(0,len(list(g_shp_un.nodes))):\n",
    "    score_a_1.append(global_efficiency(g_1))\n",
    "    score_b_1.append(rsmcs(g_1))\n",
    "    g_1.remove_nodes_from([node1[i]])"
   ]
  },
  {
   "cell_type": "markdown",
   "id": "limiting-fence",
   "metadata": {},
   "source": [
    "#### Scenario 2"
   ]
  },
  {
   "cell_type": "code",
   "execution_count": 19,
   "id": "existing-separate",
   "metadata": {},
   "outputs": [],
   "source": [
    "# do the same to scenario 2\n",
    "closeness_w=nx.closeness_centrality(g_shp_un\n",
    "                                    #, distance='distance'\n",
    "                                   )\n",
    "closeness_df=pd.DataFrame.from_dict(closeness_w,columns=['closeness_w'],orient='index')\n",
    "node2=list(closeness_df.sort_values('closeness_w',axis = 0,ascending = False).index)\n",
    "score_a_2=[]\n",
    "score_b_2=[]\n",
    "g_2=g_shp_un.copy()\n",
    "for i in range(0,len(list(g_shp_un.nodes))):\n",
    "    score_a_2.append(global_efficiency(g_2))\n",
    "    score_b_2.append(rsmcs(g_2))\n",
    "    g_2.remove_nodes_from([node2[i]])"
   ]
  },
  {
   "cell_type": "markdown",
   "id": "bibliographic-master",
   "metadata": {},
   "source": [
    "#### Scenario 3"
   ]
  },
  {
   "cell_type": "code",
   "execution_count": 20,
   "id": "shared-destruction",
   "metadata": {},
   "outputs": [],
   "source": [
    "# do the same to scenario 3\n",
    "degree=nx.degree(g_shp_un)\n",
    "degree_df=pd.DataFrame.from_dict(dict(degree),columns=['degree'],orient='index')\n",
    "node3=list(degree_df.sort_values('degree',axis = 0,ascending = False).index)\n",
    "score_a_3=[]\n",
    "score_b_3=[]\n",
    "g_3=g_shp_un.copy()\n",
    "for i in range(0,len(list(g_shp_un.nodes))):\n",
    "    score_a_3.append(global_efficiency(g_3))\n",
    "    score_b_3.append(rsmcs(g_3))\n",
    "    g_3.remove_nodes_from([node3[i]])"
   ]
  },
  {
   "cell_type": "markdown",
   "id": "psychological-delivery",
   "metadata": {},
   "source": [
    "### Sequential"
   ]
  },
  {
   "cell_type": "markdown",
   "id": "animated-support",
   "metadata": {},
   "source": [
    "#### Scenario 4"
   ]
  },
  {
   "cell_type": "code",
   "execution_count": 21,
   "id": "thermal-rouge",
   "metadata": {},
   "outputs": [],
   "source": [
    "#create a list to store the score after every time removal\n",
    "score_a_4=[]\n",
    "score_b_4=[]\n",
    "g_4=g_shp_un.copy()\n",
    "\n",
    "#remove the node one by one, after every removel, calculate the score and recalculate the centrality value\n",
    "for i in range(0,len(list(g_shp_un.nodes))):\n",
    "    score_a_4.append(global_efficiency(g_4))\n",
    "    score_b_4.append(rsmcs(g_4))\n",
    "    # recalculate the centrality values and remove the most largest one\n",
    "    bet_london_w=nx.betweenness_centrality(g_4\n",
    "                                           #, weight='distance'\n",
    "                                           , normalized=False)\n",
    "    nx.set_node_attributes(g_4,bet_london_w,'betweenness_w')\n",
    "    betweenness_df=pd.DataFrame.from_dict(bet_london_w,columns=['betweenness_w'],orient='index')\n",
    "    node4=list(betweenness_df.sort_values('betweenness_w',axis = 0,ascending = False).index)\n",
    "    g_4.remove_nodes_from([node4[0]])"
   ]
  },
  {
   "cell_type": "markdown",
   "id": "talented-surge",
   "metadata": {},
   "source": [
    "#### Scenario 5"
   ]
  },
  {
   "cell_type": "code",
   "execution_count": 22,
   "id": "breeding-italian",
   "metadata": {},
   "outputs": [],
   "source": [
    "# do the same in scenario 5\n",
    "score_a_5=[]\n",
    "score_b_5=[]\n",
    "g_5=g_shp_un.copy()\n",
    "for i in range(0,len(list(g_shp_un.nodes))):\n",
    "    score_a_5.append(global_efficiency(g_5))\n",
    "    score_b_5.append(rsmcs(g_5))\n",
    "    closeness_w=nx.closeness_centrality(g_5\n",
    "                                        #, distance='distance'\n",
    "                                       )\n",
    "    nx.set_node_attributes(g_5,closeness_w,'closeness_w')\n",
    "    closeness_df=pd.DataFrame.from_dict(closeness_w,columns=['closeness_w'],orient='index')\n",
    "    node5=list(closeness_df.sort_values('closeness_w',axis = 0,ascending = False).index)\n",
    "    g_5.remove_nodes_from([node5[0]])"
   ]
  },
  {
   "cell_type": "markdown",
   "id": "upper-underwear",
   "metadata": {},
   "source": [
    "#### Scenario 6"
   ]
  },
  {
   "cell_type": "code",
   "execution_count": 23,
   "id": "directed-result",
   "metadata": {},
   "outputs": [],
   "source": [
    "# do the same in scenario 6\n",
    "score_a_6=[]\n",
    "score_b_6=[]\n",
    "g_6=g_shp_un.copy()\n",
    "for i in range(0,len(list(g_shp_un.nodes))):\n",
    "    score_a_6.append(global_efficiency(g_6))\n",
    "    score_b_6.append(rsmcs(g_6))\n",
    "    degree=nx.degree(g_6)\n",
    "    nx.set_node_attributes(g_6,dict(degree),'degree')\n",
    "    degree_df=pd.DataFrame.from_dict(dict(degree),columns=['degree'],orient='index')\n",
    "    node6=list(degree_df.sort_values('degree',axis = 0,ascending = False).index)\n",
    "    g_6.remove_nodes_from([node6[0]])"
   ]
  },
  {
   "cell_type": "markdown",
   "id": "considered-wichita",
   "metadata": {},
   "source": [
    "## Plot the impact of nodes removal in 6 scenarios"
   ]
  },
  {
   "cell_type": "markdown",
   "id": "focused-plain",
   "metadata": {},
   "source": [
    "Now, we get the efficieny values of the networks of London tube. We can plot the variation of the global and local efficiency changed by nodes removal."
   ]
  },
  {
   "cell_type": "code",
   "execution_count": 24,
   "id": "becoming-plumbing",
   "metadata": {},
   "outputs": [
    {
     "name": "stdout",
     "output_type": "stream",
     "text": [
      "The initial network's globel efficiency is 0.1021247523344587\n",
      "The initial network's relative size of the largest connected sub-graph is 1.0 (Of course it is 1!)\n"
     ]
    }
   ],
   "source": [
    "#check the max value\n",
    "print('The initial network\\'s globel efficiency is '+ str(score_a_1[0]))\n",
    "print('The initial network\\'s relative size of the largest connected sub-graph is '+ str(score_b_1[0])+' (Of course it is 1!)')"
   ]
  },
  {
   "cell_type": "code",
   "execution_count": 28,
   "id": "olympic-helping",
   "metadata": {},
   "outputs": [],
   "source": [
    "p_label=[\n",
    "    '${C_b}$_non-seq',\n",
    "    '${C_c}$_non-seq',\n",
    "    '${C_d}$_non-seq',\n",
    "    '${C_b}$_seq',\n",
    "    '${C_c}$_seq',\n",
    "    '${C_d}$_seq'\n",
    "]"
   ]
  },
  {
   "cell_type": "code",
   "execution_count": 42,
   "id": "introductory-genome",
   "metadata": {},
   "outputs": [
    {
     "data": {
      "image/png": "[encoded data removed]",
      "text/plain": [
       "<Figure size 432x288 with 1 Axes>"
      ]
     },
     "metadata": {
      "needs_background": "light"
     },
     "output_type": "display_data"
    }
   ],
   "source": [
    "import numpy as np\n",
    "import matplotlib.pyplot as plt\n",
    "\n",
    "plt.xlabel('Number of removed nodes')\n",
    "plt.ylabel('Global networks efficiency')\n",
    "plt.xlim(xmax=50,xmin=0)\n",
    "plt.ylim(ymax=0.105,ymin=0)\n",
    "\n",
    "x = range(0,306)\n",
    "\n",
    "y1 = score_a_1\n",
    "y2 = score_a_2\n",
    "y3 = score_a_3\n",
    "y4 = score_a_4\n",
    "y5 = score_a_5\n",
    "y6 = score_a_6\n",
    "\n",
    "plt.plot([10,10],[0,1],'--',alpha=0.5)\n",
    "\n",
    "plt.plot(x, y3,'o-', color='#00CED1',label=p_label[2])\n",
    "plt.plot(x, y1,'o-', color='darkorange',label=p_label[0])\n",
    "plt.plot(x, y2,'o-', color='seagreen', label=p_label[1])\n",
    "\n",
    "plt.plot(x, y6,'^-', color='pink', label=p_label[5])\n",
    "plt.plot(x, y4,'^-', color='tomato',label=p_label[3])\n",
    "plt.plot(x, y5,'^-', color='slategray', label=p_label[4])\n",
    "\n",
    "plt.legend()\n",
    "plt.savefig('Figure1a.png', dpi=600)\n",
    "plt.show()"
   ]
  },
  {
   "cell_type": "code",
   "execution_count": 36,
   "id": "persistent-testimony",
   "metadata": {},
   "outputs": [
    {
     "name": "stdout",
     "output_type": "stream",
     "text": [
      "When 10 nodes are removed from the network, the efficiency decreases by:\n",
      "48.036181915986724%\n",
      "36.06693668936521%\n",
      "42.23703716306454%\n",
      "52.135681128884094%\n",
      "69.62858306235616%\n",
      "58.75324892807519%\n"
     ]
    }
   ],
   "source": [
    "print('When 10 nodes are removed from the network, the efficiency decreases by:')\n",
    "print(str((score_a_1[0]-score_a_3[10])/score_a_1[0]*100)+'%')\n",
    "print(str((score_a_1[0]-score_a_1[10])/score_a_1[0]*100)+'%')\n",
    "print(str((score_a_1[0]-score_a_2[10])/score_a_1[0]*100)+'%')\n",
    "print(str((score_a_1[0]-score_a_6[10])/score_a_1[0]*100)+'%')\n",
    "print(str((score_a_1[0]-score_a_4[10])/score_a_1[0]*100)+'%')\n",
    "print(str((score_a_1[0]-score_a_5[10])/score_a_1[0]*100)+'%')"
   ]
  },
  {
   "cell_type": "code",
   "execution_count": 39,
   "id": "trained-tactics",
   "metadata": {},
   "outputs": [
    {
     "name": "stdout",
     "output_type": "stream",
     "text": [
      "The difference in degree:\n",
      "4.099499212897371%\n",
      "The difference in betweenness:\n",
      "33.56164637299095%\n"
     ]
    }
   ],
   "source": [
    "print('The difference in degree:')\n",
    "print(str((score_a_1[0]-score_a_6[10])/score_a_1[0]*100-(score_a_3[0]-score_a_3[10])/score_a_1[0]*100)+'%')\n",
    "print('The difference in betweenness:')\n",
    "print(str((score_a_1[0]-score_a_4[10])/score_a_1[0]*100-(score_a_3[0]-score_a_1[10])/score_a_1[0]*100)+'%')"
   ]
  },
  {
   "cell_type": "code",
   "execution_count": 41,
   "id": "protected-corruption",
   "metadata": {},
   "outputs": [
    {
     "data": {
      "image/png": "[encoded data removed]",
      "text/plain": [
       "<Figure size 432x288 with 1 Axes>"
      ]
     },
     "metadata": {
      "needs_background": "light"
     },
     "output_type": "display_data"
    }
   ],
   "source": [
    "plt.xlabel('Number of removed nodes')\n",
    "plt.ylabel('Relative size of the maximal connected sub-graph')\n",
    "plt.xlim(xmax=50,xmin=0)\n",
    "plt.ylim(ymax=1,ymin=0)\n",
    "\n",
    "x = range(0,306)\n",
    "\n",
    "y1 = score_b_1\n",
    "y2 = score_b_2\n",
    "y3 = score_b_3\n",
    "y4 = score_b_4\n",
    "y5 = score_b_5\n",
    "y6 = score_b_6\n",
    "\n",
    "plt.plot([10,10],[0,1],'--',alpha=0.5)\n",
    "\n",
    "plt.plot(x, y3,'o-', color='#00CED1',label=p_label[2])\n",
    "plt.plot(x, y1,'o-', color='darkorange',label=p_label[0])\n",
    "plt.plot(x, y2,'o-', color='seagreen', label=p_label[1])\n",
    "\n",
    "plt.plot(x, y6,'^-', color='pink', label=p_label[5])\n",
    "plt.plot(x, y4,'^-', color='tomato',label=p_label[3])\n",
    "plt.plot(x, y5,'^-', color='slategray', label=p_label[4])\n",
    "\n",
    "\n",
    "plt.legend()\n",
    "plt.savefig('Figure1b.png', dpi=600)\n",
    "plt.show()"
   ]
  },
  {
   "cell_type": "code",
   "execution_count": 37,
   "id": "minor-champagne",
   "metadata": {},
   "outputs": [
    {
     "name": "stdout",
     "output_type": "stream",
     "text": [
      "When 10 nodes are removed from the network, the efficiency decreases by:\n",
      "22.87581699346405%\n",
      "9.80392156862745%\n",
      "43.4640522875817%\n",
      "26.470588235294112%\n",
      "68.30065359477125%\n",
      "56.5359477124183%\n"
     ]
    }
   ],
   "source": [
    "print('When 10 nodes are removed from the network, the efficiency decreases by:')\n",
    "print(str((1-score_b_3[10])*100)+'%')\n",
    "print(str((1-score_b_1[10])*100)+'%')\n",
    "print(str((1-score_b_2[10])*100)+'%')\n",
    "print(str((1-score_b_6[10])*100)+'%')\n",
    "print(str((1-score_b_4[10])*100)+'%')\n",
    "print(str((1-score_b_5[10])*100)+'%')"
   ]
  }
 ],
 "metadata": {
  "kernelspec": {
   "display_name": "urbsim",
   "language": "python",
   "name": "urbsim"
  },
  "language_info": {
   "codemirror_mode": {
    "name": "ipython",
    "version": 3
   },
   "file_extension": ".py",
   "mimetype": "text/x-python",
   "name": "python",
   "nbconvert_exporter": "python",
   "pygments_lexer": "ipython3",
   "version": "3.7.9"
  },
  "toc": {
   "base_numbering": 1,
   "nav_menu": {},
   "number_sections": true,
   "sideBar": true,
   "skip_h1_title": false,
   "title_cell": "Table of Contents",
   "title_sidebar": "Contents",
   "toc_cell": false,
   "toc_position": {
    "height": "calc(100% - 180px)",
    "left": "10px",
    "top": "150px",
    "width": "253.719px"
   },
   "toc_section_display": true,
   "toc_window_display": true
  }
 },
 "nbformat": 4,
 "nbformat_minor": 5
}
